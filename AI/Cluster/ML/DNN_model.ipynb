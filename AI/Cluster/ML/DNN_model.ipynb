{
 "cells": [
  {
   "cell_type": "code",
   "execution_count": 9,
   "id": "aaa3b2af",
   "metadata": {},
   "outputs": [],
   "source": [
    "import numpy as np\n",
    "import pandas as pd\n",
    "import tensorflow as tf\n",
    "from keras.models import Sequential\n",
    "from keras.layers import Dense\n",
    "from sklearn.model_selection import train_test_split\n"
   ]
  },
  {
   "cell_type": "code",
   "execution_count": 3,
   "id": "fcd782b2",
   "metadata": {},
   "outputs": [
    {
     "name": "stdout",
     "output_type": "stream",
     "text": [
      "<class 'pandas.core.frame.DataFrame'>\n",
      "RangeIndex: 11648 entries, 0 to 11647\n",
      "Columns: 199 entries, 품종_가르가네가 (Garganega)  to 타닌_5\n",
      "dtypes: int64(199)\n",
      "memory usage: 17.7 MB\n"
     ]
    }
   ],
   "source": [
    "dl_test = pd.read_csv('D:/Project_intern/[AI]_추천/data/cluster_final.csv',encoding='cp949')\n",
    "dl_test.drop(['Unnamed: 0'], axis = 1, inplace = True)\n",
    "dl_test.info()"
   ]
  },
  {
   "cell_type": "code",
   "execution_count": 4,
   "id": "4d66a388",
   "metadata": {
    "scrolled": true
   },
   "outputs": [
    {
     "name": "stdout",
     "output_type": "stream",
     "text": [
      "<class 'pandas.core.frame.DataFrame'>\n",
      "RangeIndex: 11648 entries, 0 to 11647\n",
      "Data columns (total 8 columns):\n",
      " #   Column  Non-Null Count  Dtype\n",
      "---  ------  --------------  -----\n",
      " 0   0       11648 non-null  int64\n",
      " 1   1       11648 non-null  int64\n",
      " 2   2       11648 non-null  int64\n",
      " 3   3       11648 non-null  int64\n",
      " 4   4       11648 non-null  int64\n",
      " 5   5       11648 non-null  int64\n",
      " 6   6       11648 non-null  int64\n",
      " 7   7       11648 non-null  int64\n",
      "dtypes: int64(8)\n",
      "memory usage: 728.1 KB\n"
     ]
    }
   ],
   "source": [
    "label = pd.read_csv('D:/Project_intern/[AI]_추천/data/label_data.csv',encoding='cp949')\n",
    "label.drop(['Unnamed: 0'], axis = 1, inplace = True)\n",
    "label.info()"
   ]
  },
  {
   "cell_type": "code",
   "execution_count": 5,
   "id": "056125f7",
   "metadata": {},
   "outputs": [],
   "source": [
    "test_data_x=dl_test.to_numpy()\n",
    "test_data_y=label.to_numpy()"
   ]
  },
  {
   "cell_type": "code",
   "execution_count": 6,
   "id": "1f3ae48a",
   "metadata": {},
   "outputs": [],
   "source": [
    "x_data=np.array(test_data_x)\n",
    "y_data=np.array(test_data_y)"
   ]
  },
  {
   "cell_type": "code",
   "execution_count": 10,
   "id": "526ab4a3",
   "metadata": {},
   "outputs": [],
   "source": [
    "## 데이타 분류\n",
    "x_train, x_test, y_train, y_test = train_test_split(x_data, y_data, random_state=66, test_size=0.4)\n",
    "x_test, x_val, y_test, y_val = train_test_split(x_test, y_test, random_state=66, test_size=0.5)"
   ]
  },
  {
   "cell_type": "code",
   "execution_count": 17,
   "id": "6e27481b",
   "metadata": {},
   "outputs": [
    {
     "name": "stdout",
     "output_type": "stream",
     "text": [
      "6988\n",
      "6988\n",
      "2330\n",
      "2330\n",
      "2330\n",
      "2330\n"
     ]
    }
   ],
   "source": [
    "print(len(x_train))\n",
    "print(len(y_train))\n",
    "print(len(x_test))\n",
    "print(len(y_test))\n",
    "print(len(x_val))\n",
    "print(len(y_val))"
   ]
  },
  {
   "cell_type": "code",
   "execution_count": 12,
   "id": "f6942147",
   "metadata": {
    "scrolled": true
   },
   "outputs": [
    {
     "name": "stdout",
     "output_type": "stream",
     "text": [
      "Epoch 1/50\n",
      "219/219 [==============================] - 0s 1ms/step - loss: 1.9461 - accuracy: 0.2393 - val_loss: 1.7675 - val_accuracy: 0.3502\n",
      "Epoch 2/50\n",
      "219/219 [==============================] - 0s 698us/step - loss: 1.4462 - accuracy: 0.6305 - val_loss: 1.0508 - val_accuracy: 0.7773\n",
      "Epoch 3/50\n",
      "219/219 [==============================] - 0s 758us/step - loss: 0.7042 - accuracy: 0.8997 - val_loss: 0.4191 - val_accuracy: 0.9815\n",
      "Epoch 4/50\n",
      "219/219 [==============================] - 0s 758us/step - loss: 0.2958 - accuracy: 0.9815 - val_loss: 0.1933 - val_accuracy: 0.9888\n",
      "Epoch 5/50\n",
      "219/219 [==============================] - 0s 689us/step - loss: 0.1547 - accuracy: 0.9854 - val_loss: 0.1115 - val_accuracy: 0.9901\n",
      "Epoch 6/50\n",
      "219/219 [==============================] - 0s 746us/step - loss: 0.0990 - accuracy: 0.9884 - val_loss: 0.0768 - val_accuracy: 0.9923\n",
      "Epoch 7/50\n",
      "219/219 [==============================] - 0s 763us/step - loss: 0.0725 - accuracy: 0.9900 - val_loss: 0.0580 - val_accuracy: 0.9918\n",
      "Epoch 8/50\n",
      "219/219 [==============================] - 0s 763us/step - loss: 0.0574 - accuracy: 0.9906 - val_loss: 0.0469 - val_accuracy: 0.9923\n",
      "Epoch 9/50\n",
      "219/219 [==============================] - 0s 762us/step - loss: 0.0479 - accuracy: 0.9910 - val_loss: 0.0396 - val_accuracy: 0.9923\n",
      "Epoch 10/50\n",
      "219/219 [==============================] - 0s 788us/step - loss: 0.0412 - accuracy: 0.9917 - val_loss: 0.0342 - val_accuracy: 0.9940\n",
      "Epoch 11/50\n",
      "219/219 [==============================] - 0s 728us/step - loss: 0.0364 - accuracy: 0.9927 - val_loss: 0.0304 - val_accuracy: 0.9940\n",
      "Epoch 12/50\n",
      "219/219 [==============================] - 0s 762us/step - loss: 0.0327 - accuracy: 0.9934 - val_loss: 0.0275 - val_accuracy: 0.9940\n",
      "Epoch 13/50\n",
      "219/219 [==============================] - 0s 790us/step - loss: 0.0297 - accuracy: 0.9940 - val_loss: 0.0250 - val_accuracy: 0.9957\n",
      "Epoch 14/50\n",
      "219/219 [==============================] - 0s 727us/step - loss: 0.0273 - accuracy: 0.9950 - val_loss: 0.0232 - val_accuracy: 0.9948\n",
      "Epoch 15/50\n",
      "219/219 [==============================] - 0s 772us/step - loss: 0.0252 - accuracy: 0.9950 - val_loss: 0.0214 - val_accuracy: 0.9948\n",
      "Epoch 16/50\n",
      "219/219 [==============================] - 0s 768us/step - loss: 0.0235 - accuracy: 0.9957 - val_loss: 0.0202 - val_accuracy: 0.9953\n",
      "Epoch 17/50\n",
      "219/219 [==============================] - 0s 756us/step - loss: 0.0220 - accuracy: 0.9956 - val_loss: 0.0188 - val_accuracy: 0.9961\n",
      "Epoch 18/50\n",
      "219/219 [==============================] - 0s 758us/step - loss: 0.0208 - accuracy: 0.9961 - val_loss: 0.0178 - val_accuracy: 0.9961\n",
      "Epoch 19/50\n",
      "219/219 [==============================] - 0s 776us/step - loss: 0.0196 - accuracy: 0.9964 - val_loss: 0.0169 - val_accuracy: 0.9961\n",
      "Epoch 20/50\n",
      "219/219 [==============================] - 0s 772us/step - loss: 0.0187 - accuracy: 0.9967 - val_loss: 0.0159 - val_accuracy: 0.9970\n",
      "Epoch 21/50\n",
      "219/219 [==============================] - 0s 744us/step - loss: 0.0177 - accuracy: 0.9971 - val_loss: 0.0152 - val_accuracy: 0.9970\n",
      "Epoch 22/50\n",
      "219/219 [==============================] - 0s 781us/step - loss: 0.0168 - accuracy: 0.9969 - val_loss: 0.0145 - val_accuracy: 0.9974\n",
      "Epoch 23/50\n",
      "219/219 [==============================] - 0s 699us/step - loss: 0.0161 - accuracy: 0.9973 - val_loss: 0.0138 - val_accuracy: 0.9970\n",
      "Epoch 24/50\n",
      "219/219 [==============================] - 0s 837us/step - loss: 0.0154 - accuracy: 0.9971 - val_loss: 0.0135 - val_accuracy: 0.9966\n",
      "Epoch 25/50\n",
      "219/219 [==============================] - 0s 755us/step - loss: 0.0148 - accuracy: 0.9971 - val_loss: 0.0129 - val_accuracy: 0.9966\n",
      "Epoch 26/50\n",
      "219/219 [==============================] - 0s 785us/step - loss: 0.0142 - accuracy: 0.9976 - val_loss: 0.0123 - val_accuracy: 0.9974\n",
      "Epoch 27/50\n",
      "219/219 [==============================] - 0s 772us/step - loss: 0.0136 - accuracy: 0.9976 - val_loss: 0.0120 - val_accuracy: 0.9974\n",
      "Epoch 28/50\n",
      "219/219 [==============================] - 0s 763us/step - loss: 0.0131 - accuracy: 0.9976 - val_loss: 0.0115 - val_accuracy: 0.9979\n",
      "Epoch 29/50\n",
      "219/219 [==============================] - 0s 790us/step - loss: 0.0126 - accuracy: 0.9981 - val_loss: 0.0111 - val_accuracy: 0.9979\n",
      "Epoch 30/50\n",
      "219/219 [==============================] - 0s 772us/step - loss: 0.0122 - accuracy: 0.9980 - val_loss: 0.0109 - val_accuracy: 0.9974\n",
      "Epoch 31/50\n",
      "219/219 [==============================] - 0s 790us/step - loss: 0.0117 - accuracy: 0.9983 - val_loss: 0.0105 - val_accuracy: 0.9979\n",
      "Epoch 32/50\n",
      "219/219 [==============================] - 0s 768us/step - loss: 0.0114 - accuracy: 0.9990 - val_loss: 0.0103 - val_accuracy: 0.9979\n",
      "Epoch 33/50\n",
      "219/219 [==============================] - 0s 786us/step - loss: 0.0110 - accuracy: 0.9981 - val_loss: 0.0100 - val_accuracy: 0.9987\n",
      "Epoch 34/50\n",
      "219/219 [==============================] - 0s 772us/step - loss: 0.0107 - accuracy: 0.9987 - val_loss: 0.0096 - val_accuracy: 0.9991\n",
      "Epoch 35/50\n",
      "219/219 [==============================] - 0s 766us/step - loss: 0.0103 - accuracy: 0.9990 - val_loss: 0.0094 - val_accuracy: 0.9987\n",
      "Epoch 36/50\n",
      "219/219 [==============================] - 0s 757us/step - loss: 0.0100 - accuracy: 0.9990 - val_loss: 0.0092 - val_accuracy: 0.9987\n",
      "Epoch 37/50\n",
      "219/219 [==============================] - 0s 797us/step - loss: 0.0097 - accuracy: 0.9991 - val_loss: 0.0090 - val_accuracy: 0.9987\n",
      "Epoch 38/50\n",
      "219/219 [==============================] - 0s 773us/step - loss: 0.0094 - accuracy: 0.9991 - val_loss: 0.0088 - val_accuracy: 0.9991\n",
      "Epoch 39/50\n",
      "219/219 [==============================] - 0s 775us/step - loss: 0.0092 - accuracy: 0.9991 - val_loss: 0.0087 - val_accuracy: 0.9987\n",
      "Epoch 40/50\n",
      "219/219 [==============================] - 0s 787us/step - loss: 0.0089 - accuracy: 0.9993 - val_loss: 0.0083 - val_accuracy: 0.9991\n",
      "Epoch 41/50\n",
      "219/219 [==============================] - 0s 724us/step - loss: 0.0086 - accuracy: 0.9994 - val_loss: 0.0085 - val_accuracy: 0.9991\n",
      "Epoch 42/50\n",
      "219/219 [==============================] - 0s 758us/step - loss: 0.0085 - accuracy: 0.9994 - val_loss: 0.0080 - val_accuracy: 0.9987\n",
      "Epoch 43/50\n",
      "219/219 [==============================] - 0s 772us/step - loss: 0.0082 - accuracy: 0.9994 - val_loss: 0.0080 - val_accuracy: 0.9987\n",
      "Epoch 44/50\n",
      "219/219 [==============================] - 0s 979us/step - loss: 0.0079 - accuracy: 0.9994 - val_loss: 0.0078 - val_accuracy: 0.9987\n",
      "Epoch 45/50\n",
      "219/219 [==============================] - 0s 1ms/step - loss: 0.0078 - accuracy: 0.9994 - val_loss: 0.0077 - val_accuracy: 0.9983\n",
      "Epoch 46/50\n",
      "219/219 [==============================] - 0s 1ms/step - loss: 0.0075 - accuracy: 0.9994 - val_loss: 0.0075 - val_accuracy: 0.9983\n",
      "Epoch 47/50\n",
      "219/219 [==============================] - 0s 973us/step - loss: 0.0074 - accuracy: 0.9994 - val_loss: 0.0073 - val_accuracy: 0.9983\n",
      "Epoch 48/50\n",
      "219/219 [==============================] - 0s 708us/step - loss: 0.0072 - accuracy: 0.9994 - val_loss: 0.0072 - val_accuracy: 0.9987\n",
      "Epoch 49/50\n",
      "219/219 [==============================] - 0s 970us/step - loss: 0.0071 - accuracy: 0.9994 - val_loss: 0.0071 - val_accuracy: 0.9983\n",
      "Epoch 50/50\n",
      "219/219 [==============================] - 0s 773us/step - loss: 0.0069 - accuracy: 0.9994 - val_loss: 0.0071 - val_accuracy: 0.9983\n",
      "Model: \"sequential\"\n",
      "_________________________________________________________________\n",
      "Layer (type)                 Output Shape              Param #   \n",
      "=================================================================\n",
      "dense (Dense)                (None, 199)               39800     \n",
      "_________________________________________________________________\n",
      "dense_1 (Dense)              (None, 199)               39800     \n",
      "_________________________________________________________________\n",
      "dense_2 (Dense)              (None, 199)               39800     \n",
      "_________________________________________________________________\n",
      "dense_3 (Dense)              (None, 8)                 1600      \n",
      "=================================================================\n",
      "Total params: 121,000\n",
      "Trainable params: 121,000\n",
      "Non-trainable params: 0\n",
      "_________________________________________________________________\n"
     ]
    }
   ],
   "source": [
    "##DNN\n",
    "model = Sequential()\n",
    "model.add(Dense(199, activation='relu'))\n",
    "model.add(Dense(199, activation='relu'))\n",
    "model.add(Dense(199, activation='relu'))\n",
    "model.add(Dense(8, activation='softmax'))\n",
    "model.compile(loss='categorical_crossentropy', optimizer='sgd',metrics=['accuracy'])\n",
    "model.fit(x_train, y_train, epochs=50, batch_size=32, verbose=1, validation_data=(x_val, y_val))\n",
    "model.summary()"
   ]
  },
  {
   "cell_type": "code",
   "execution_count": 14,
   "id": "7a3c7b9e",
   "metadata": {},
   "outputs": [
    {
     "name": "stdout",
     "output_type": "stream",
     "text": [
      "73/73 [==============================] - 0s 411us/step - loss: 0.0120 - accuracy: 0.9966\n",
      "acc :  0.9965665340423584\n"
     ]
    }
   ],
   "source": [
    "_, accuracy = model.evaluate(x_test, y_test,batch_size=32)\n",
    "print('acc : ', accuracy)\n"
   ]
  },
  {
   "cell_type": "code",
   "execution_count": 18,
   "id": "f0985b79",
   "metadata": {},
   "outputs": [],
   "source": [
    "## 다품종 테스트\n",
    "test1 = pd.read_csv('D:/Project_intern/data/encoding_test1.csv', encoding='cp949')\n",
    "test1.drop(['Unnamed: 0'], axis = 1, inplace = True)\n",
    "test2 = pd.read_csv('D:/Project_intern/data/encoding_test_1.csv', encoding='cp949')\n",
    "test2.drop(['Unnamed: 0'], axis = 1, inplace = True)"
   ]
  },
  {
   "cell_type": "code",
   "execution_count": 19,
   "id": "20361dea",
   "metadata": {},
   "outputs": [],
   "source": [
    "test_data1=test1.to_numpy()\n",
    "test_data2=test2.to_numpy()"
   ]
  },
  {
   "cell_type": "code",
   "execution_count": 20,
   "id": "ff3a1bac",
   "metadata": {},
   "outputs": [
    {
     "name": "stdout",
     "output_type": "stream",
     "text": [
      "[5, 5, 3, 5, 5, 6, 2, 2, 2, 5, 5, 1, 5, 2, 2, 1, 3, 3, 3, 3, 3, 3, 3, 3, 7, 7, 3, 7, 2, 3, 1, 7, 7]\n",
      "[5, 5, 3, 5, 5, 6, 2, 2, 2, 5, 5, 1, 5, 2, 2, 1, 3, 3, 3, 3, 3, 3, 3, 3, 7, 7, 3, 7, 2, 3, 1, 7, 7]\n"
     ]
    }
   ],
   "source": [
    "a=[]\n",
    "b=[]\n",
    "for i in range(33):\n",
    "    y_predict=model.predict(np.array([test_data1[i]]))\n",
    "    a.append(np.argmax(y_predict))\n",
    "for i in range(33):\n",
    "    y_predict=model.predict(np.array([test_data2[i]]))\n",
    "    b.append(np.argmax(y_predict))\n",
    "print(a)\n",
    "print(b)"
   ]
  },
  {
   "cell_type": "code",
   "execution_count": null,
   "id": "84338e24",
   "metadata": {},
   "outputs": [],
   "source": []
  }
 ],
 "metadata": {
  "kernelspec": {
   "display_name": "Python 3 (ipykernel)",
   "language": "python",
   "name": "python3"
  },
  "language_info": {
   "codemirror_mode": {
    "name": "ipython",
    "version": 3
   },
   "file_extension": ".py",
   "mimetype": "text/x-python",
   "name": "python",
   "nbconvert_exporter": "python",
   "pygments_lexer": "ipython3",
   "version": "3.8.12"
  }
 },
 "nbformat": 4,
 "nbformat_minor": 5
}
