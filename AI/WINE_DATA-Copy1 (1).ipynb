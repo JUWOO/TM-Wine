{
 "cells": [
  {
   "cell_type": "code",
   "execution_count": 1,
   "id": "191e8adf",
   "metadata": {
    "ExecuteTime": {
     "end_time": "2021-12-28T12:53:00.271075Z",
     "start_time": "2021-12-28T12:53:00.252430Z"
    }
   },
   "outputs": [],
   "source": [
    "import requests\n",
    "import re\n",
    "from bs4 import BeautifulSoup\n",
    "import csv\n",
    "\n",
    "#170247"
   ]
  },
  {
   "cell_type": "code",
   "execution_count": null,
   "id": "8797fa6c",
   "metadata": {
    "ExecuteTime": {
     "end_time": "2021-12-28T12:54:44.663601Z",
     "start_time": "2021-12-28T12:54:44.419830Z"
    },
    "scrolled": false
   },
   "outputs": [],
   "source": [
    "wine = []\n",
    "for i in range(138465,170248):\n",
    "    try:\n",
    "        url = 'https://www.wine21.com/13_search/wine_view.html?Idx='+str(i)+'&lq=LIST'\n",
    "        res = requests.get(url)\n",
    "        res.raise_for_status()\n",
    "        soup = BeautifulSoup(res.text,'html.parser')\n",
    "        items = soup.select(\"body > section > div.inner\")\n",
    "    \n",
    "        for item in items:\n",
    "            temp = []\n",
    "            name = item.select_one(\"body > section > div.inner > div.clear > div.wine-top-right > dl > dt\").text\n",
    "            price = item.select_one(\"body > section > div.inner > div.clear > div.wine-top-right > p.wine-price > strong\").text\n",
    "            category = item.select_one(\"body > section > div.inner > div.clear > div.wine-top-right > div.bagde-box > p > span.bagde-item\").text\n",
    "            country = item.select_one(\"body > section > div.inner > div.clear > div.wine-top-right > div.bagde-box > p > span:nth-child(2)\").text\n",
    "\n",
    "            kind = item.select_one(\"#detail > div > div > dl:nth-child(3) > dd \").text\n",
    "\n",
    "            sugar = item.select(\"body > section > div.inner > div.clear > div.wine-top-right > div.wine-components > ul > li:nth-child(1)\")\n",
    "            sugar = [a_element for a_element in sugar]\n",
    "            sugar = str(sugar)\n",
    "            sugar = sugar.count(\"on\")\n",
    "\n",
    "            acidity = item.select(\"body > section > div.inner > div.clear > div.wine-top-right > div.wine-components > ul > li:nth-child(2)\")\n",
    "            acidity = [a_element for a_element in acidity]\n",
    "            acidity = str(acidity)\n",
    "            acidity = acidity.count(\"on\")\n",
    "\n",
    "            body = item.select(\"body > section > div.inner > div.clear > div.wine-top-right > div.wine-components > ul > li:nth-child(3)\")\n",
    "            body = [a_element for a_element in body]\n",
    "            body = str(body)\n",
    "            body = body.count(\"on\")\n",
    "\n",
    "            tannin = item.select(\"body > section > div.inner > div.clear > div.wine-top-right > div.wine-components > ul > li:nth-child(4)\")\n",
    "            tannin = [a_element for a_element in tannin]\n",
    "            tannin = str(tannin)\n",
    "            tannin = tannin.count(\"on\")\n",
    "\n",
    "\n",
    "\n",
    "            temp.append(name)\n",
    "            temp.append(price)\n",
    "            temp.append(category)\n",
    "            temp.append(country)\n",
    "            temp.append(kind)\n",
    "            temp.append(sugar)\n",
    "            temp.append(acidity)\n",
    "            temp.append(body)\n",
    "            temp.append(tannin)\n",
    "            wine.append(temp)\n",
    "    except:\n",
    "        pass\n",
    "\n",
    "with open('wine_select.csv',\"w\", encoding = \"utf-8-sig\",newline = \"\") as f:\n",
    "    writer = csv.writer(f)\n",
    "    writer.writerow(['품명','가격','카테고리','생산지','품종','당도','산도','바디','타닌'])\n",
    "    writer.writerows(wine)\n",
    "f.close"
   ]
  },
  {
   "cell_type": "code",
   "execution_count": null,
   "id": "962d04df",
   "metadata": {},
   "outputs": [],
   "source": []
  }
 ],
 "metadata": {
  "kernelspec": {
   "display_name": "Python 3 (ipykernel)",
   "language": "python",
   "name": "python3"
  },
  "language_info": {
   "codemirror_mode": {
    "name": "ipython",
    "version": 3
   },
   "file_extension": ".py",
   "mimetype": "text/x-python",
   "name": "python",
   "nbconvert_exporter": "python",
   "pygments_lexer": "ipython3",
   "version": "3.8.12"
  },
  "toc": {
   "base_numbering": 1,
   "nav_menu": {},
   "number_sections": true,
   "sideBar": true,
   "skip_h1_title": false,
   "title_cell": "Table of Contents",
   "title_sidebar": "Contents",
   "toc_cell": false,
   "toc_position": {},
   "toc_section_display": true,
   "toc_window_display": false
  }
 },
 "nbformat": 4,
 "nbformat_minor": 5
}
